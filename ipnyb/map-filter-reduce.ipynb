{
 "cells": [
  {
   "cell_type": "code",
   "execution_count": 15,
   "id": "989d37ac",
   "metadata": {},
   "outputs": [
    {
     "name": "stdout",
     "output_type": "stream",
     "text": [
      "2468\n"
     ]
    }
   ],
   "source": [
    "from functools import reduce\n",
    "\n",
    "square_list = [\"2\", \"4\", \"6\", \"8\"]\n",
    "\n",
    "def square_return(_element):\n",
    "    return _element * element\n",
    "\n",
    "square_map = map(square_return, square_list)\n",
    "\n",
    "### =============== Reduce.functools function ===============\n",
    "\n",
    "reduce__array = reduce(lambda z, x:z+x, square_list)\n",
    "print(reduce__array)\n"
   ]
  }
 ],
 "metadata": {
  "kernelspec": {
   "display_name": "Python 3 (ipykernel)",
   "language": "python",
   "name": "python3"
  },
  "language_info": {
   "codemirror_mode": {
    "name": "ipython",
    "version": 3
   },
   "file_extension": ".py",
   "mimetype": "text/x-python",
   "name": "python",
   "nbconvert_exporter": "python",
   "pygments_lexer": "ipython3",
   "version": "3.9.13"
  }
 },
 "nbformat": 4,
 "nbformat_minor": 5
}
