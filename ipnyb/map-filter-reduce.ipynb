{
 "cells": [
  {
   "cell_type": "code",
   "execution_count": 9,
   "id": "ed2d9e33-4b41-4354-b9a8-9da012b9482f",
   "metadata": {
    "slideshow": {
     "slide_type": "fragment"
    },
    "tags": []
   },
   "outputs": [
    {
     "name": "stdout",
     "output_type": "stream",
     "text": [
      "[2, 4]\n",
      "[4]\n",
      "6\n"
     ]
    }
   ],
   "source": [
    "import functools as funcs\n",
    "import numpy as np\n",
    "\n",
    "\n",
    "# Map function\n",
    "string_array = np.array([\"2\", \"4\"])\n",
    "num_array = list(map(int, string_array))\n",
    "print(num_array)\n",
    "\n",
    "# filter function\n",
    "def filter_function(element):\n",
    "    return element > 2\n",
    "\n",
    "filter_func_array = list(filter(filter_function, num_array))\n",
    "print(filter_func_array)\n",
    "\n",
    "# reduce function\n",
    "reduce_function = funcs.reduce(lambda x,y:x+y, num_array)\n",
    "print(reduce_function)\n",
    "\n"
   ]
  },
  {
   "cell_type": "code",
   "execution_count": null,
   "id": "048df590-71db-4fc4-88e0-a113b62c1a46",
   "metadata": {},
   "outputs": [],
   "source": []
  }
 ],
 "metadata": {
  "kernelspec": {
   "display_name": "Python 3 (ipykernel)",
   "language": "python",
   "name": "python3"
  },
  "language_info": {
   "codemirror_mode": {
    "name": "ipython",
    "version": 3
   },
   "file_extension": ".py",
   "mimetype": "text/x-python",
   "name": "python",
   "nbconvert_exporter": "python",
   "pygments_lexer": "ipython3",
   "version": "3.9.13"
  },
  "widgets": {
   "application/vnd.jupyter.widget-state+json": {
    "state": {},
    "version_major": 2,
    "version_minor": 0
   }
  }
 },
 "nbformat": 4,
 "nbformat_minor": 5
}
